{
 "cells": [
  {
   "cell_type": "code",
   "execution_count": 1,
   "id": "55a9db4f",
   "metadata": {},
   "outputs": [],
   "source": [
    "import pandas as pd"
   ]
  },
  {
   "cell_type": "code",
   "execution_count": 2,
   "id": "70583c3f",
   "metadata": {},
   "outputs": [],
   "source": [
    "df=pd.read_csv('Activities.csv')"
   ]
  },
  {
   "cell_type": "code",
   "execution_count": 3,
   "id": "c9d56797",
   "metadata": {},
   "outputs": [
    {
     "name": "stdout",
     "output_type": "stream",
     "text": [
      "Atleta ID 123123\n"
     ]
    }
   ],
   "source": [
    "df['Atleta ID']=input('Atleta ID ')"
   ]
  },
  {
   "cell_type": "code",
   "execution_count": 4,
   "id": "b027cc38",
   "metadata": {
    "scrolled": true
   },
   "outputs": [
    {
     "data": {
      "text/plain": [
       "Index(['Tipo de atividade', 'Data', 'Favorito', 'Título', 'Distância',\n",
       "       'Calorias', 'Tempo', 'FC Média', 'FC máxima',\n",
       "       'Training Effect Aeróbico', 'Cadência de corrida média',\n",
       "       'Cadência de corrida máxima', 'Ritmo médio', 'Melhor ritmo',\n",
       "       'Subida total', 'Descida total', 'Comprimento médio da passada',\n",
       "       'Proporção de média vertical', 'Oscilação vertical média',\n",
       "       'Cadência de corrida média.1', 'Cadência de corrida máxima.1',\n",
       "       'Normalized Power® (NP®)', 'Equilíbrio E/D', 'Training Stress Score®',\n",
       "       'Máximo de potência média (20 minutos)', 'Potência média',\n",
       "       'Energia máxima', 'Granularidade', 'Fluxo', 'Total de braçadas',\n",
       "       'Média de Swolf', 'Taxa média de braçadas', 'Total de repetições',\n",
       "       'Total de conjuntos', 'Tempo de mergulho', 'Temp mínima',\n",
       "       'Intervalo de superfície', 'Descompressão', 'Tempo da melhor volta',\n",
       "       'Número de voltas', 'Temp máxima', 'Tempo em movimento', 'Duração',\n",
       "       'Elevação mínima', 'Elevação máxima', 'Atleta ID'],\n",
       "      dtype='object')"
      ]
     },
     "execution_count": 4,
     "metadata": {},
     "output_type": "execute_result"
    }
   ],
   "source": [
    "df.columns"
   ]
  },
  {
   "cell_type": "code",
   "execution_count": 5,
   "id": "eea855fe",
   "metadata": {},
   "outputs": [],
   "source": [
    "df=df[['Atleta ID','Tipo de atividade', 'Data', 'Distância','Calorias', 'Tempo','Cadência de corrida média',\n",
    "       'Cadência de corrida média.1','Ritmo médio','Total de braçadas', 'Média de Swolf','Tempo em movimento']]"
   ]
  },
  {
   "cell_type": "code",
   "execution_count": 6,
   "id": "e74bb839",
   "metadata": {},
   "outputs": [
    {
     "data": {
      "text/plain": [
       "array(['Corrida', 'Natação em alto mar', 'Multiesporte',\n",
       "       'Ciclismo em estradas', 'Ciclismo em local fechado',\n",
       "       'Natação em piscina', 'Corrida em esteira', 'Ciclismo na montanha',\n",
       "       'Ciclismo', 'Ciclismo virtual', 'Cardiovascular', 'Outros',\n",
       "       'Treino de força', 'Cronômetro'], dtype=object)"
      ]
     },
     "execution_count": 6,
     "metadata": {},
     "output_type": "execute_result"
    }
   ],
   "source": [
    "df['Tipo de atividade'].unique()"
   ]
  },
  {
   "cell_type": "code",
   "execution_count": 7,
   "id": "a68efd07",
   "metadata": {},
   "outputs": [
    {
     "data": {
      "text/plain": [
       "0       True\n",
       "1       True\n",
       "2       True\n",
       "3      False\n",
       "4       True\n",
       "       ...  \n",
       "475     True\n",
       "476     True\n",
       "477     True\n",
       "478     True\n",
       "479     True\n",
       "Name: Tipo de atividade, Length: 480, dtype: bool"
      ]
     },
     "execution_count": 7,
     "metadata": {},
     "output_type": "execute_result"
    }
   ],
   "source": [
    "df['Tipo de atividade'].isin(['Corrida', 'Natação em alto mar', 'Ciclismo em estradas', 'Ciclismo em local fechado',\n",
    "                            'Natação em piscina', 'Corrida em esteira', 'Ciclismo na montanha','Ciclismo',\n",
    "                            'Ciclismo virtual'])"
   ]
  },
  {
   "cell_type": "code",
   "execution_count": 8,
   "id": "ce6fb88d",
   "metadata": {},
   "outputs": [],
   "source": [
    "df=df.loc[df['Tipo de atividade'].isin(['Corrida', 'Natação em alto mar', 'Ciclismo em estradas', 'Ciclismo em local fechado',\n",
    "                            'Natação em piscina', 'Corrida em esteira', 'Ciclismo na montanha','Ciclismo',\n",
    "                            'Ciclismo virtual'])]"
   ]
  },
  {
   "cell_type": "code",
   "execution_count": 9,
   "id": "a6fcac18",
   "metadata": {},
   "outputs": [
    {
     "data": {
      "text/html": [
       "<div>\n",
       "<style scoped>\n",
       "    .dataframe tbody tr th:only-of-type {\n",
       "        vertical-align: middle;\n",
       "    }\n",
       "\n",
       "    .dataframe tbody tr th {\n",
       "        vertical-align: top;\n",
       "    }\n",
       "\n",
       "    .dataframe thead th {\n",
       "        text-align: right;\n",
       "    }\n",
       "</style>\n",
       "<table border=\"1\" class=\"dataframe\">\n",
       "  <thead>\n",
       "    <tr style=\"text-align: right;\">\n",
       "      <th></th>\n",
       "      <th>Atleta ID</th>\n",
       "      <th>Tipo de atividade</th>\n",
       "      <th>Data</th>\n",
       "      <th>Distância</th>\n",
       "      <th>Calorias</th>\n",
       "      <th>Tempo</th>\n",
       "      <th>Cadência de corrida média</th>\n",
       "      <th>Cadência de corrida média.1</th>\n",
       "      <th>Ritmo médio</th>\n",
       "      <th>Total de braçadas</th>\n",
       "      <th>Média de Swolf</th>\n",
       "      <th>Tempo em movimento</th>\n",
       "    </tr>\n",
       "  </thead>\n",
       "  <tbody>\n",
       "    <tr>\n",
       "      <th>0</th>\n",
       "      <td>123123</td>\n",
       "      <td>Corrida</td>\n",
       "      <td>2021-09-30 05:50:14</td>\n",
       "      <td>4.27</td>\n",
       "      <td>314</td>\n",
       "      <td>00:24:44</td>\n",
       "      <td>165</td>\n",
       "      <td>--</td>\n",
       "      <td>5:47</td>\n",
       "      <td>--</td>\n",
       "      <td>--</td>\n",
       "      <td>00:24:35</td>\n",
       "    </tr>\n",
       "    <tr>\n",
       "      <th>1</th>\n",
       "      <td>123123</td>\n",
       "      <td>Natação em alto mar</td>\n",
       "      <td>2021-09-29 10:58:13</td>\n",
       "      <td>1,214</td>\n",
       "      <td>698</td>\n",
       "      <td>00:45:23</td>\n",
       "      <td>--</td>\n",
       "      <td>--</td>\n",
       "      <td>3:44</td>\n",
       "      <td>1065</td>\n",
       "      <td>78</td>\n",
       "      <td>00:37:38</td>\n",
       "    </tr>\n",
       "    <tr>\n",
       "      <th>2</th>\n",
       "      <td>123123</td>\n",
       "      <td>Natação em alto mar</td>\n",
       "      <td>2021-09-27 15:19:26</td>\n",
       "      <td>483</td>\n",
       "      <td>131</td>\n",
       "      <td>00:16:06</td>\n",
       "      <td>--</td>\n",
       "      <td>--</td>\n",
       "      <td>3:20</td>\n",
       "      <td>411</td>\n",
       "      <td>71</td>\n",
       "      <td>00:13:23</td>\n",
       "    </tr>\n",
       "    <tr>\n",
       "      <th>4</th>\n",
       "      <td>123123</td>\n",
       "      <td>Ciclismo em estradas</td>\n",
       "      <td>2021-09-26 05:58:17</td>\n",
       "      <td>89.97</td>\n",
       "      <td>1,825</td>\n",
       "      <td>02:30:24</td>\n",
       "      <td>--</td>\n",
       "      <td>74</td>\n",
       "      <td>35.9</td>\n",
       "      <td>11194</td>\n",
       "      <td>--</td>\n",
       "      <td>02:30:20</td>\n",
       "    </tr>\n",
       "    <tr>\n",
       "      <th>5</th>\n",
       "      <td>123123</td>\n",
       "      <td>Corrida</td>\n",
       "      <td>2021-09-25 07:55:40</td>\n",
       "      <td>3.06</td>\n",
       "      <td>174</td>\n",
       "      <td>00:15:00</td>\n",
       "      <td>171</td>\n",
       "      <td>--</td>\n",
       "      <td>4:54</td>\n",
       "      <td>--</td>\n",
       "      <td>--</td>\n",
       "      <td>00:14:59</td>\n",
       "    </tr>\n",
       "  </tbody>\n",
       "</table>\n",
       "</div>"
      ],
      "text/plain": [
       "  Atleta ID     Tipo de atividade                 Data Distância Calorias  \\\n",
       "0    123123               Corrida  2021-09-30 05:50:14      4.27      314   \n",
       "1    123123   Natação em alto mar  2021-09-29 10:58:13     1,214      698   \n",
       "2    123123   Natação em alto mar  2021-09-27 15:19:26       483      131   \n",
       "4    123123  Ciclismo em estradas  2021-09-26 05:58:17     89.97    1,825   \n",
       "5    123123               Corrida  2021-09-25 07:55:40      3.06      174   \n",
       "\n",
       "      Tempo Cadência de corrida média Cadência de corrida média.1 Ritmo médio  \\\n",
       "0  00:24:44                       165                          --        5:47   \n",
       "1  00:45:23                        --                          --        3:44   \n",
       "2  00:16:06                        --                          --        3:20   \n",
       "4  02:30:24                        --                          74        35.9   \n",
       "5  00:15:00                       171                          --        4:54   \n",
       "\n",
       "  Total de braçadas Média de Swolf Tempo em movimento  \n",
       "0                --             --           00:24:35  \n",
       "1              1065             78           00:37:38  \n",
       "2               411             71           00:13:23  \n",
       "4             11194             --           02:30:20  \n",
       "5                --             --           00:14:59  "
      ]
     },
     "execution_count": 9,
     "metadata": {},
     "output_type": "execute_result"
    }
   ],
   "source": [
    "df.head()"
   ]
  },
  {
   "cell_type": "code",
   "execution_count": 10,
   "id": "d516de4f",
   "metadata": {},
   "outputs": [
    {
     "data": {
      "text/plain": [
       "'2021-09-30 05:50:14'"
      ]
     },
     "execution_count": 10,
     "metadata": {},
     "output_type": "execute_result"
    }
   ],
   "source": [
    "data=df['Data'][0]\n",
    "data"
   ]
  },
  {
   "cell_type": "code",
   "execution_count": 11,
   "id": "aef1f9fd",
   "metadata": {},
   "outputs": [
    {
     "data": {
      "text/plain": [
       "datetime.datetime(2021, 9, 30, 5, 50, 14)"
      ]
     },
     "execution_count": 11,
     "metadata": {},
     "output_type": "execute_result"
    }
   ],
   "source": [
    "from datetime import datetime\n",
    "datetime.strptime(data, '%Y-%m-%d %H:%M:%S')"
   ]
  },
  {
   "cell_type": "code",
   "execution_count": 12,
   "id": "af438a35",
   "metadata": {},
   "outputs": [],
   "source": [
    "df['Data']=pd.to_datetime(df['Data'])"
   ]
  },
  {
   "cell_type": "code",
   "execution_count": 13,
   "id": "ded1a316",
   "metadata": {},
   "outputs": [
    {
     "name": "stdout",
     "output_type": "stream",
     "text": [
      "<class 'pandas.core.frame.DataFrame'>\n",
      "Int64Index: 460 entries, 0 to 479\n",
      "Data columns (total 12 columns):\n",
      " #   Column                       Non-Null Count  Dtype         \n",
      "---  ------                       --------------  -----         \n",
      " 0   Atleta ID                    460 non-null    object        \n",
      " 1   Tipo de atividade            460 non-null    object        \n",
      " 2   Data                         460 non-null    datetime64[ns]\n",
      " 3   Distância                    460 non-null    object        \n",
      " 4   Calorias                     460 non-null    object        \n",
      " 5   Tempo                        460 non-null    object        \n",
      " 6   Cadência de corrida média    460 non-null    object        \n",
      " 7   Cadência de corrida média.1  460 non-null    object        \n",
      " 8   Ritmo médio                  460 non-null    object        \n",
      " 9   Total de braçadas            460 non-null    object        \n",
      " 10  Média de Swolf               460 non-null    object        \n",
      " 11  Tempo em movimento           460 non-null    object        \n",
      "dtypes: datetime64[ns](1), object(11)\n",
      "memory usage: 62.9+ KB\n"
     ]
    }
   ],
   "source": [
    "df.info()"
   ]
  },
  {
   "cell_type": "code",
   "execution_count": 14,
   "id": "c209d327",
   "metadata": {},
   "outputs": [],
   "source": [
    "df['Tempo']=pd.to_timedelta(df['Tempo'])"
   ]
  },
  {
   "cell_type": "code",
   "execution_count": 15,
   "id": "edf7dbe7",
   "metadata": {
    "scrolled": true
   },
   "outputs": [],
   "source": [
    "df['Tempo']=df['Tempo'].dt.total_seconds()"
   ]
  },
  {
   "cell_type": "code",
   "execution_count": 16,
   "id": "235b1939",
   "metadata": {},
   "outputs": [],
   "source": [
    "df['Tempo em movimento']=pd.to_timedelta(df['Tempo em movimento']).dt.total_seconds()"
   ]
  },
  {
   "cell_type": "code",
   "execution_count": 17,
   "id": "d7848c3a",
   "metadata": {},
   "outputs": [],
   "source": [
    "metros=[]\n",
    "for i in df['Distância']:\n",
    "    i=i.replace(',','')\n",
    "    if '.' in i:\n",
    "        i=float(i)*1000\n",
    "    else:\n",
    "        i=float(i)\n",
    "    metros.append(i)\n",
    "df['Distância']=metros"
   ]
  },
  {
   "cell_type": "code",
   "execution_count": 18,
   "id": "52d6fc88",
   "metadata": {},
   "outputs": [],
   "source": [
    "df['Velocidade']=df['Distância']/df['Tempo']"
   ]
  },
  {
   "cell_type": "code",
   "execution_count": 19,
   "id": "8cc45838",
   "metadata": {},
   "outputs": [
    {
     "data": {
      "text/html": [
       "<div>\n",
       "<style scoped>\n",
       "    .dataframe tbody tr th:only-of-type {\n",
       "        vertical-align: middle;\n",
       "    }\n",
       "\n",
       "    .dataframe tbody tr th {\n",
       "        vertical-align: top;\n",
       "    }\n",
       "\n",
       "    .dataframe thead th {\n",
       "        text-align: right;\n",
       "    }\n",
       "</style>\n",
       "<table border=\"1\" class=\"dataframe\">\n",
       "  <thead>\n",
       "    <tr style=\"text-align: right;\">\n",
       "      <th></th>\n",
       "      <th>Atleta ID</th>\n",
       "      <th>Tipo de atividade</th>\n",
       "      <th>Data</th>\n",
       "      <th>Distância</th>\n",
       "      <th>Calorias</th>\n",
       "      <th>Tempo</th>\n",
       "      <th>Cadência de corrida média</th>\n",
       "      <th>Cadência de corrida média.1</th>\n",
       "      <th>Ritmo médio</th>\n",
       "      <th>Total de braçadas</th>\n",
       "      <th>Média de Swolf</th>\n",
       "      <th>Tempo em movimento</th>\n",
       "      <th>Velocidade</th>\n",
       "    </tr>\n",
       "  </thead>\n",
       "  <tbody>\n",
       "    <tr>\n",
       "      <th>0</th>\n",
       "      <td>123123</td>\n",
       "      <td>Corrida</td>\n",
       "      <td>2021-09-30 05:50:14</td>\n",
       "      <td>4270.0</td>\n",
       "      <td>314</td>\n",
       "      <td>1484.0</td>\n",
       "      <td>165</td>\n",
       "      <td>--</td>\n",
       "      <td>5:47</td>\n",
       "      <td>--</td>\n",
       "      <td>--</td>\n",
       "      <td>1475.0</td>\n",
       "      <td>2.877358</td>\n",
       "    </tr>\n",
       "    <tr>\n",
       "      <th>1</th>\n",
       "      <td>123123</td>\n",
       "      <td>Natação em alto mar</td>\n",
       "      <td>2021-09-29 10:58:13</td>\n",
       "      <td>1214.0</td>\n",
       "      <td>698</td>\n",
       "      <td>2723.0</td>\n",
       "      <td>--</td>\n",
       "      <td>--</td>\n",
       "      <td>3:44</td>\n",
       "      <td>1065</td>\n",
       "      <td>78</td>\n",
       "      <td>2258.0</td>\n",
       "      <td>0.445832</td>\n",
       "    </tr>\n",
       "    <tr>\n",
       "      <th>2</th>\n",
       "      <td>123123</td>\n",
       "      <td>Natação em alto mar</td>\n",
       "      <td>2021-09-27 15:19:26</td>\n",
       "      <td>483.0</td>\n",
       "      <td>131</td>\n",
       "      <td>966.0</td>\n",
       "      <td>--</td>\n",
       "      <td>--</td>\n",
       "      <td>3:20</td>\n",
       "      <td>411</td>\n",
       "      <td>71</td>\n",
       "      <td>803.0</td>\n",
       "      <td>0.500000</td>\n",
       "    </tr>\n",
       "    <tr>\n",
       "      <th>4</th>\n",
       "      <td>123123</td>\n",
       "      <td>Ciclismo em estradas</td>\n",
       "      <td>2021-09-26 05:58:17</td>\n",
       "      <td>89970.0</td>\n",
       "      <td>1,825</td>\n",
       "      <td>9024.0</td>\n",
       "      <td>--</td>\n",
       "      <td>74</td>\n",
       "      <td>35.9</td>\n",
       "      <td>11194</td>\n",
       "      <td>--</td>\n",
       "      <td>9020.0</td>\n",
       "      <td>9.970080</td>\n",
       "    </tr>\n",
       "    <tr>\n",
       "      <th>5</th>\n",
       "      <td>123123</td>\n",
       "      <td>Corrida</td>\n",
       "      <td>2021-09-25 07:55:40</td>\n",
       "      <td>3060.0</td>\n",
       "      <td>174</td>\n",
       "      <td>900.0</td>\n",
       "      <td>171</td>\n",
       "      <td>--</td>\n",
       "      <td>4:54</td>\n",
       "      <td>--</td>\n",
       "      <td>--</td>\n",
       "      <td>899.0</td>\n",
       "      <td>3.400000</td>\n",
       "    </tr>\n",
       "    <tr>\n",
       "      <th>...</th>\n",
       "      <td>...</td>\n",
       "      <td>...</td>\n",
       "      <td>...</td>\n",
       "      <td>...</td>\n",
       "      <td>...</td>\n",
       "      <td>...</td>\n",
       "      <td>...</td>\n",
       "      <td>...</td>\n",
       "      <td>...</td>\n",
       "      <td>...</td>\n",
       "      <td>...</td>\n",
       "      <td>...</td>\n",
       "      <td>...</td>\n",
       "    </tr>\n",
       "    <tr>\n",
       "      <th>475</th>\n",
       "      <td>123123</td>\n",
       "      <td>Corrida em esteira</td>\n",
       "      <td>2020-12-18 11:14:55</td>\n",
       "      <td>9200.0</td>\n",
       "      <td>449</td>\n",
       "      <td>2856.0</td>\n",
       "      <td>170</td>\n",
       "      <td>--</td>\n",
       "      <td>5:10</td>\n",
       "      <td>--</td>\n",
       "      <td>--</td>\n",
       "      <td>2827.0</td>\n",
       "      <td>3.221289</td>\n",
       "    </tr>\n",
       "    <tr>\n",
       "      <th>476</th>\n",
       "      <td>123123</td>\n",
       "      <td>Corrida</td>\n",
       "      <td>2020-12-18 10:41:22</td>\n",
       "      <td>4000.0</td>\n",
       "      <td>190</td>\n",
       "      <td>1448.0</td>\n",
       "      <td>155</td>\n",
       "      <td>--</td>\n",
       "      <td>6:02</td>\n",
       "      <td>--</td>\n",
       "      <td>--</td>\n",
       "      <td>1409.0</td>\n",
       "      <td>2.762431</td>\n",
       "    </tr>\n",
       "    <tr>\n",
       "      <th>477</th>\n",
       "      <td>123123</td>\n",
       "      <td>Ciclismo na montanha</td>\n",
       "      <td>2020-12-18 05:57:38</td>\n",
       "      <td>14440.0</td>\n",
       "      <td>345</td>\n",
       "      <td>3614.0</td>\n",
       "      <td>--</td>\n",
       "      <td>--</td>\n",
       "      <td>14.4</td>\n",
       "      <td>--</td>\n",
       "      <td>--</td>\n",
       "      <td>3611.0</td>\n",
       "      <td>3.995573</td>\n",
       "    </tr>\n",
       "    <tr>\n",
       "      <th>478</th>\n",
       "      <td>123123</td>\n",
       "      <td>Corrida em esteira</td>\n",
       "      <td>2020-12-17 17:38:55</td>\n",
       "      <td>4320.0</td>\n",
       "      <td>233</td>\n",
       "      <td>1201.0</td>\n",
       "      <td>175</td>\n",
       "      <td>--</td>\n",
       "      <td>4:38</td>\n",
       "      <td>--</td>\n",
       "      <td>--</td>\n",
       "      <td>1172.0</td>\n",
       "      <td>3.597002</td>\n",
       "    </tr>\n",
       "    <tr>\n",
       "      <th>479</th>\n",
       "      <td>123123</td>\n",
       "      <td>Ciclismo na montanha</td>\n",
       "      <td>2020-12-17 16:25:25</td>\n",
       "      <td>10840.0</td>\n",
       "      <td>374</td>\n",
       "      <td>3657.0</td>\n",
       "      <td>--</td>\n",
       "      <td>--</td>\n",
       "      <td>10.7</td>\n",
       "      <td>--</td>\n",
       "      <td>--</td>\n",
       "      <td>3654.0</td>\n",
       "      <td>2.964178</td>\n",
       "    </tr>\n",
       "  </tbody>\n",
       "</table>\n",
       "<p>460 rows × 13 columns</p>\n",
       "</div>"
      ],
      "text/plain": [
       "    Atleta ID     Tipo de atividade                Data  Distância Calorias  \\\n",
       "0      123123               Corrida 2021-09-30 05:50:14     4270.0      314   \n",
       "1      123123   Natação em alto mar 2021-09-29 10:58:13     1214.0      698   \n",
       "2      123123   Natação em alto mar 2021-09-27 15:19:26      483.0      131   \n",
       "4      123123  Ciclismo em estradas 2021-09-26 05:58:17    89970.0    1,825   \n",
       "5      123123               Corrida 2021-09-25 07:55:40     3060.0      174   \n",
       "..        ...                   ...                 ...        ...      ...   \n",
       "475    123123    Corrida em esteira 2020-12-18 11:14:55     9200.0      449   \n",
       "476    123123               Corrida 2020-12-18 10:41:22     4000.0      190   \n",
       "477    123123  Ciclismo na montanha 2020-12-18 05:57:38    14440.0      345   \n",
       "478    123123    Corrida em esteira 2020-12-17 17:38:55     4320.0      233   \n",
       "479    123123  Ciclismo na montanha 2020-12-17 16:25:25    10840.0      374   \n",
       "\n",
       "      Tempo Cadência de corrida média Cadência de corrida média.1 Ritmo médio  \\\n",
       "0    1484.0                       165                          --        5:47   \n",
       "1    2723.0                        --                          --        3:44   \n",
       "2     966.0                        --                          --        3:20   \n",
       "4    9024.0                        --                          74        35.9   \n",
       "5     900.0                       171                          --        4:54   \n",
       "..      ...                       ...                         ...         ...   \n",
       "475  2856.0                       170                          --        5:10   \n",
       "476  1448.0                       155                          --        6:02   \n",
       "477  3614.0                        --                          --        14.4   \n",
       "478  1201.0                       175                          --        4:38   \n",
       "479  3657.0                        --                          --        10.7   \n",
       "\n",
       "    Total de braçadas Média de Swolf  Tempo em movimento  Velocidade  \n",
       "0                  --             --              1475.0    2.877358  \n",
       "1                1065             78              2258.0    0.445832  \n",
       "2                 411             71               803.0    0.500000  \n",
       "4               11194             --              9020.0    9.970080  \n",
       "5                  --             --               899.0    3.400000  \n",
       "..                ...            ...                 ...         ...  \n",
       "475                --             --              2827.0    3.221289  \n",
       "476                --             --              1409.0    2.762431  \n",
       "477                --             --              3611.0    3.995573  \n",
       "478                --             --              1172.0    3.597002  \n",
       "479                --             --              3654.0    2.964178  \n",
       "\n",
       "[460 rows x 13 columns]"
      ]
     },
     "execution_count": 19,
     "metadata": {},
     "output_type": "execute_result"
    }
   ],
   "source": [
    "df"
   ]
  },
  {
   "cell_type": "code",
   "execution_count": 20,
   "id": "2216fc6f",
   "metadata": {},
   "outputs": [],
   "source": [
    "df2=pd.read_csv('Relatorio.csv')"
   ]
  },
  {
   "cell_type": "code",
   "execution_count": 21,
   "id": "84ebfc6d",
   "metadata": {},
   "outputs": [],
   "source": [
    "df3=pd.concat([df, df2], ignore_index=True, sort=False)"
   ]
  },
  {
   "cell_type": "code",
   "execution_count": 22,
   "id": "b4d28fb2",
   "metadata": {},
   "outputs": [],
   "source": [
    "df3.to_csv('Relatorio.csv',index=False)"
   ]
  },
  {
   "cell_type": "code",
   "execution_count": 24,
   "id": "ce1984ed",
   "metadata": {},
   "outputs": [
    {
     "data": {
      "text/plain": [
       "(1380, 13)"
      ]
     },
     "execution_count": 24,
     "metadata": {},
     "output_type": "execute_result"
    }
   ],
   "source": []
  }
 ],
 "metadata": {
  "kernelspec": {
   "display_name": "Python 3",
   "language": "python",
   "name": "python3"
  },
  "language_info": {
   "codemirror_mode": {
    "name": "ipython",
    "version": 3
   },
   "file_extension": ".py",
   "mimetype": "text/x-python",
   "name": "python",
   "nbconvert_exporter": "python",
   "pygments_lexer": "ipython3",
   "version": "3.8.8"
  }
 },
 "nbformat": 4,
 "nbformat_minor": 5
}
